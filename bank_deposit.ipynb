{
 "cells": [
  {
   "cell_type": "markdown",
   "metadata": {},
   "source": [
    "# Classification task of predicting if the client will subscribe a term deposit"
   ]
  },
  {
   "cell_type": "markdown",
   "metadata": {},
   "source": [
    "## Imports"
   ]
  },
  {
   "cell_type": "code",
   "execution_count": null,
   "metadata": {},
   "outputs": [
    {
     "name": "stdout",
     "output_type": "stream",
     "text": [
      "The autoreload extension is already loaded. To reload it, use:\n",
      "  %reload_ext autoreload\n"
     ]
    }
   ],
   "source": [
    "import numpy as np\n",
    "import pandas as pd\n",
    "import matplotlib.pyplot as plt\n",
    "import seaborn as sns\n",
    "import joblib\n",
    "import shap\n",
    "\n",
    "from sklearn.compose import ColumnTransformer\n",
    "from sklearn.linear_model import LogisticRegression\n",
    "from sklearn.model_selection import cross_val_score, RandomizedSearchCV\n",
    "from sklearn.pipeline import Pipeline\n",
    "from sklearn.preprocessing import MinMaxScaler\n",
    "from sklearn.preprocessing import OneHotEncoder, OrdinalEncoder\n",
    "from sklearn.neighbors import KNeighborsClassifier\n",
    "from sklearn.tree import DecisionTreeClassifier\n",
    "from sklearn.ensemble import RandomForestClassifier\n",
    "from sklearn.metrics import confusion_matrix, roc_auc_score\n",
    "\n",
    "from xgboost import XGBClassifier\n",
    "from lightgbm import LGBMClassifier, plot_importance\n",
    "from hyperopt import fmin, tpe, hp, STATUS_OK, Trials, space_eval\n",
    "\n",
    "pd.set_option('display.max_columns', None)\n",
    "pd.set_option('float_format', '{:,.2f}'.format)\n",
    "\n",
    "%load_ext autoreload\n",
    "%autoreload all\n",
    "from process_bank_deposit import (split_data, create_inputs_and_targets,\n",
    "                                  get_auc, get_eval_results, get_confusion_matrix)"
   ]
  },
  {
   "cell_type": "markdown",
   "metadata": {},
   "source": [
    "## Appropriate methods and metrics"
   ]
  },
  {
   "cell_type": "markdown",
   "metadata": {},
   "source": [
    "Since our task is a binary classification problem (predicting customer churn), for the initial baseline model, I prefer using **Logistic Regression**, as it is a simple yet powerful model for classification tasks. Additionally, I plan to experiment with tree-based model (**Random Forest Classifier**) and **Boosting** models (XGBoost, LightGBM).\n",
    "\n",
    "**Preprocessing Requirements:**\n",
    "- **Logistic Regression:** Requires scaling and encoding for categorical features.\n",
    "- **RandomForest Classifier:** Require only encoding.\n",
    "- **Boosting models:** Can be tested both with and without encoding, as some boosting algorithms can handle categorical features directly.\n",
    "\n",
    "**Evaluation Metrics:**\n",
    "- I prefer use the AUC-ROC Score with Stratified k-fold cross-validation as the primary metric to ensure a balanced assessment across unbalanced target.\n",
    "- Additionally, I will use the Confusion Matrix to analyze classification performance and understand model misclassifications."
   ]
  },
  {
   "cell_type": "markdown",
   "metadata": {},
   "source": [
    "## Load the data"
   ]
  },
  {
   "cell_type": "code",
   "execution_count": 140,
   "metadata": {},
   "outputs": [],
   "source": [
    "raw_data = pd.read_csv('./data/bank_data.csv')"
   ]
  },
  {
   "cell_type": "code",
   "execution_count": 3,
   "metadata": {},
   "outputs": [
    {
     "data": {
      "text/html": [
       "<div>\n",
       "<style scoped>\n",
       "    .dataframe tbody tr th:only-of-type {\n",
       "        vertical-align: middle;\n",
       "    }\n",
       "\n",
       "    .dataframe tbody tr th {\n",
       "        vertical-align: top;\n",
       "    }\n",
       "\n",
       "    .dataframe thead th {\n",
       "        text-align: right;\n",
       "    }\n",
       "</style>\n",
       "<table border=\"1\" class=\"dataframe\">\n",
       "  <thead>\n",
       "    <tr style=\"text-align: right;\">\n",
       "      <th></th>\n",
       "      <th>age</th>\n",
       "      <th>job</th>\n",
       "      <th>marital</th>\n",
       "      <th>education</th>\n",
       "      <th>default</th>\n",
       "      <th>housing</th>\n",
       "      <th>loan</th>\n",
       "      <th>contact</th>\n",
       "      <th>month</th>\n",
       "      <th>day_of_week</th>\n",
       "      <th>duration</th>\n",
       "      <th>campaign</th>\n",
       "      <th>pdays</th>\n",
       "      <th>previous</th>\n",
       "      <th>poutcome</th>\n",
       "      <th>emp.var.rate</th>\n",
       "      <th>cons.price.idx</th>\n",
       "      <th>cons.conf.idx</th>\n",
       "      <th>euribor3m</th>\n",
       "      <th>nr.employed</th>\n",
       "      <th>y</th>\n",
       "      <th>cons.price.idx_diff</th>\n",
       "      <th>cons.conf.idx_diff</th>\n",
       "    </tr>\n",
       "  </thead>\n",
       "  <tbody>\n",
       "    <tr>\n",
       "      <th>0</th>\n",
       "      <td>56</td>\n",
       "      <td>housemaid</td>\n",
       "      <td>married</td>\n",
       "      <td>basic.4y</td>\n",
       "      <td>no</td>\n",
       "      <td>no</td>\n",
       "      <td>no</td>\n",
       "      <td>telephone</td>\n",
       "      <td>may</td>\n",
       "      <td>mon</td>\n",
       "      <td>261</td>\n",
       "      <td>1</td>\n",
       "      <td>999</td>\n",
       "      <td>0</td>\n",
       "      <td>nonexistent</td>\n",
       "      <td>1.10</td>\n",
       "      <td>93.99</td>\n",
       "      <td>-36.40</td>\n",
       "      <td>4.86</td>\n",
       "      <td>5,191.00</td>\n",
       "      <td>no</td>\n",
       "      <td>0.00</td>\n",
       "      <td>0.00</td>\n",
       "    </tr>\n",
       "    <tr>\n",
       "      <th>1</th>\n",
       "      <td>57</td>\n",
       "      <td>services</td>\n",
       "      <td>married</td>\n",
       "      <td>high.school</td>\n",
       "      <td>unknown</td>\n",
       "      <td>no</td>\n",
       "      <td>no</td>\n",
       "      <td>telephone</td>\n",
       "      <td>may</td>\n",
       "      <td>mon</td>\n",
       "      <td>149</td>\n",
       "      <td>1</td>\n",
       "      <td>999</td>\n",
       "      <td>0</td>\n",
       "      <td>nonexistent</td>\n",
       "      <td>1.10</td>\n",
       "      <td>93.99</td>\n",
       "      <td>-36.40</td>\n",
       "      <td>4.86</td>\n",
       "      <td>5,191.00</td>\n",
       "      <td>no</td>\n",
       "      <td>0.00</td>\n",
       "      <td>0.00</td>\n",
       "    </tr>\n",
       "    <tr>\n",
       "      <th>2</th>\n",
       "      <td>37</td>\n",
       "      <td>services</td>\n",
       "      <td>married</td>\n",
       "      <td>high.school</td>\n",
       "      <td>no</td>\n",
       "      <td>yes</td>\n",
       "      <td>no</td>\n",
       "      <td>telephone</td>\n",
       "      <td>may</td>\n",
       "      <td>mon</td>\n",
       "      <td>226</td>\n",
       "      <td>1</td>\n",
       "      <td>999</td>\n",
       "      <td>0</td>\n",
       "      <td>nonexistent</td>\n",
       "      <td>1.10</td>\n",
       "      <td>93.99</td>\n",
       "      <td>-36.40</td>\n",
       "      <td>4.86</td>\n",
       "      <td>5,191.00</td>\n",
       "      <td>no</td>\n",
       "      <td>0.00</td>\n",
       "      <td>0.00</td>\n",
       "    </tr>\n",
       "    <tr>\n",
       "      <th>3</th>\n",
       "      <td>40</td>\n",
       "      <td>admin.</td>\n",
       "      <td>married</td>\n",
       "      <td>basic.6y</td>\n",
       "      <td>no</td>\n",
       "      <td>no</td>\n",
       "      <td>no</td>\n",
       "      <td>telephone</td>\n",
       "      <td>may</td>\n",
       "      <td>mon</td>\n",
       "      <td>151</td>\n",
       "      <td>1</td>\n",
       "      <td>999</td>\n",
       "      <td>0</td>\n",
       "      <td>nonexistent</td>\n",
       "      <td>1.10</td>\n",
       "      <td>93.99</td>\n",
       "      <td>-36.40</td>\n",
       "      <td>4.86</td>\n",
       "      <td>5,191.00</td>\n",
       "      <td>no</td>\n",
       "      <td>0.00</td>\n",
       "      <td>0.00</td>\n",
       "    </tr>\n",
       "    <tr>\n",
       "      <th>4</th>\n",
       "      <td>56</td>\n",
       "      <td>services</td>\n",
       "      <td>married</td>\n",
       "      <td>high.school</td>\n",
       "      <td>no</td>\n",
       "      <td>no</td>\n",
       "      <td>yes</td>\n",
       "      <td>telephone</td>\n",
       "      <td>may</td>\n",
       "      <td>mon</td>\n",
       "      <td>307</td>\n",
       "      <td>1</td>\n",
       "      <td>999</td>\n",
       "      <td>0</td>\n",
       "      <td>nonexistent</td>\n",
       "      <td>1.10</td>\n",
       "      <td>93.99</td>\n",
       "      <td>-36.40</td>\n",
       "      <td>4.86</td>\n",
       "      <td>5,191.00</td>\n",
       "      <td>no</td>\n",
       "      <td>0.00</td>\n",
       "      <td>0.00</td>\n",
       "    </tr>\n",
       "  </tbody>\n",
       "</table>\n",
       "</div>"
      ],
      "text/plain": [
       "   age        job  marital    education  default housing loan    contact  \\\n",
       "0   56  housemaid  married     basic.4y       no      no   no  telephone   \n",
       "1   57   services  married  high.school  unknown      no   no  telephone   \n",
       "2   37   services  married  high.school       no     yes   no  telephone   \n",
       "3   40     admin.  married     basic.6y       no      no   no  telephone   \n",
       "4   56   services  married  high.school       no      no  yes  telephone   \n",
       "\n",
       "  month day_of_week  duration  campaign  pdays  previous     poutcome  \\\n",
       "0   may         mon       261         1    999         0  nonexistent   \n",
       "1   may         mon       149         1    999         0  nonexistent   \n",
       "2   may         mon       226         1    999         0  nonexistent   \n",
       "3   may         mon       151         1    999         0  nonexistent   \n",
       "4   may         mon       307         1    999         0  nonexistent   \n",
       "\n",
       "   emp.var.rate  cons.price.idx  cons.conf.idx  euribor3m  nr.employed   y  \\\n",
       "0          1.10           93.99         -36.40       4.86     5,191.00  no   \n",
       "1          1.10           93.99         -36.40       4.86     5,191.00  no   \n",
       "2          1.10           93.99         -36.40       4.86     5,191.00  no   \n",
       "3          1.10           93.99         -36.40       4.86     5,191.00  no   \n",
       "4          1.10           93.99         -36.40       4.86     5,191.00  no   \n",
       "\n",
       "   cons.price.idx_diff  cons.conf.idx_diff  \n",
       "0                 0.00                0.00  \n",
       "1                 0.00                0.00  \n",
       "2                 0.00                0.00  \n",
       "3                 0.00                0.00  \n",
       "4                 0.00                0.00  "
      ]
     },
     "execution_count": 3,
     "metadata": {},
     "output_type": "execute_result"
    }
   ],
   "source": [
    "raw_data.head()"
   ]
  },
  {
   "cell_type": "markdown",
   "metadata": {},
   "source": [
    "## Split on train and test sets"
   ]
  },
  {
   "cell_type": "code",
   "execution_count": 141,
   "metadata": {},
   "outputs": [],
   "source": [
    "data_dict = split_data(raw_data, 'y')"
   ]
  },
  {
   "cell_type": "code",
   "execution_count": 142,
   "metadata": {},
   "outputs": [
    {
     "name": "stdout",
     "output_type": "stream",
     "text": [
      "train_df.shape : (32940, 22)\n",
      "test_df.shape : (8236, 22)\n"
     ]
    }
   ],
   "source": [
    "print('train_df.shape :', data_dict['train'].shape)\n",
    "print('test_df.shape :', data_dict['test'].shape)"
   ]
  },
  {
   "cell_type": "code",
   "execution_count": 143,
   "metadata": {},
   "outputs": [],
   "source": [
    "input_cols = list(raw_data.drop(columns=['duration', 'y']).columns)\n",
    "target_col = 'y'"
   ]
  },
  {
   "cell_type": "code",
   "execution_count": 144,
   "metadata": {},
   "outputs": [],
   "source": [
    "data_dict = create_inputs_and_targets(data_dict, input_cols, target_col)"
   ]
  },
  {
   "cell_type": "code",
   "execution_count": 145,
   "metadata": {},
   "outputs": [],
   "source": [
    "train_inputs, train_targets = data_dict['train_inputs'], data_dict['train_targets']\n",
    "test_inputs, test_targets = data_dict['test_inputs'], data_dict['test_targets']"
   ]
  },
  {
   "cell_type": "markdown",
   "metadata": {},
   "source": [
    "## Identify numeric and categorical columns"
   ]
  },
  {
   "cell_type": "code",
   "execution_count": 146,
   "metadata": {},
   "outputs": [],
   "source": [
    "numeric_cols = train_inputs.select_dtypes(include='number').columns.to_list()\n",
    "categorical_cols = train_inputs.select_dtypes(include='object').columns.to_list()"
   ]
  },
  {
   "cell_type": "markdown",
   "metadata": {},
   "source": [
    "## Preprocessing"
   ]
  },
  {
   "cell_type": "markdown",
   "metadata": {},
   "source": [
    "### Scaling of the numeric columns"
   ]
  },
  {
   "cell_type": "code",
   "execution_count": 147,
   "metadata": {},
   "outputs": [],
   "source": [
    "scaler = MinMaxScaler()\n",
    "\n",
    "numerical_transformer = Pipeline(steps=[\n",
    "    ('scaler', scaler)\n",
    "])"
   ]
  },
  {
   "cell_type": "markdown",
   "metadata": {},
   "source": [
    "### Encoding of the categorical columns"
   ]
  },
  {
   "cell_type": "code",
   "execution_count": 148,
   "metadata": {},
   "outputs": [],
   "source": [
    "encoder = OneHotEncoder(\n",
    "    sparse_output=False, handle_unknown='ignore'\n",
    ")\n",
    "\n",
    "categorical_transformer = Pipeline(steps=[\n",
    "    ('onehot_enc', encoder)\n",
    "])"
   ]
  },
  {
   "cell_type": "markdown",
   "metadata": {},
   "source": [
    "## Baseline `LogisticRegression`"
   ]
  },
  {
   "cell_type": "code",
   "execution_count": 12,
   "metadata": {},
   "outputs": [
    {
     "name": "stdout",
     "output_type": "stream",
     "text": [
      "AUROC score on train set:: 0.796\n",
      "AUROC score on validation set:: 0.791\n"
     ]
    },
    {
     "data": {
      "image/png": "[encoded data removed]",
      "text/plain": [
       "<Figure size 400x400 with 2 Axes>"
      ]
     },
     "metadata": {},
     "output_type": "display_data"
    }
   ],
   "source": [
    "# Combine transformers into a preprocessor\n",
    "preprocessor = ColumnTransformer(\n",
    "    transformers=[\n",
    "        ('num', numerical_transformer, numeric_cols),\n",
    "        ('cat', categorical_transformer, categorical_cols)\n",
    "], remainder='passthrough',\n",
    "verbose_feature_names_out=False)\n",
    "\n",
    "preprocessor.set_output(transform='pandas')\n",
    "\n",
    "clf = LogisticRegression(random_state=42, solver='liblinear', class_weight='balanced')\n",
    "\n",
    "model_pipeline = Pipeline(steps=[\n",
    "    ('preprocessor', preprocessor),\n",
    "    ('classifier', clf)\n",
    "])\n",
    "\n",
    "get_auc(model_pipeline, train_inputs, train_targets)\n",
    "\n",
    "get_confusion_matrix(model_pipeline, train_inputs, train_targets)"
   ]
  },
  {
   "cell_type": "markdown",
   "metadata": {},
   "source": [
    "The model performs quite well, achieving a balanced trade-off between false positives (15%) and false negatives (37%).\n",
    "- The relatively high False Negative Rate (37%) means that some positive cases are being missed, which might be critical for work with clients.\n",
    "- The ROC AUC of 0.791 is promising, but there is room for improvement, especially in reducing false negatives.\n",
    "\n",
    "**Next Steps:**\n",
    "- Feature Engineering: Consider creating interaction features or transformations to capture more patterns in the data.\n",
    "- Alternative Models: Try tree-based models (Random Forest, Gradient Boosting) that can handle complex relationships."
   ]
  },
  {
   "cell_type": "markdown",
   "metadata": {},
   "source": [
    "## Feature engineering"
   ]
  },
  {
   "cell_type": "code",
   "execution_count": 14,
   "metadata": {},
   "outputs": [
    {
     "data": {
      "text/plain": [
       "Index(['age', 'job', 'marital', 'education', 'default', 'housing', 'loan',\n",
       "       'contact', 'month', 'day_of_week', 'campaign', 'pdays', 'previous',\n",
       "       'poutcome', 'emp.var.rate', 'cons.price.idx', 'cons.conf.idx',\n",
       "       'euribor3m', 'nr.employed', 'cons.price.idx_diff',\n",
       "       'cons.conf.idx_diff'],\n",
       "      dtype='object')"
      ]
     },
     "execution_count": 14,
     "metadata": {},
     "output_type": "execute_result"
    }
   ],
   "source": [
    "train_inputs.columns"
   ]
  },
  {
   "cell_type": "markdown",
   "metadata": {},
   "source": [
    "### Categorize the `age` feature"
   ]
  },
  {
   "cell_type": "code",
   "execution_count": 15,
   "metadata": {},
   "outputs": [
    {
     "data": {
      "text/plain": [
       "36444    24\n",
       "1233     32\n",
       "24104    33\n",
       "15513    38\n",
       "17912    39\n",
       "8504     43\n",
       "24130    57\n",
       "2680     55\n",
       "5824     36\n",
       "37518    57\n",
       "Name: age, dtype: int64"
      ]
     },
     "execution_count": 15,
     "metadata": {},
     "output_type": "execute_result"
    }
   ],
   "source": [
    "train_inputs['age'][:10]"
   ]
  },
  {
   "cell_type": "code",
   "execution_count": 16,
   "metadata": {},
   "outputs": [],
   "source": [
    "train_inputs['age_cat'] = (train_inputs['age'] // 10)"
   ]
  },
  {
   "cell_type": "code",
   "execution_count": 17,
   "metadata": {},
   "outputs": [
    {
     "data": {
      "text/plain": [
       "36444    2\n",
       "1233     3\n",
       "24104    3\n",
       "15513    3\n",
       "17912    3\n",
       "8504     4\n",
       "24130    5\n",
       "2680     5\n",
       "5824     3\n",
       "37518    5\n",
       "Name: age_cat, dtype: int64"
      ]
     },
     "execution_count": 17,
     "metadata": {},
     "output_type": "execute_result"
    }
   ],
   "source": [
    "train_inputs['age_cat'][:10]"
   ]
  },
  {
   "cell_type": "code",
   "execution_count": 18,
   "metadata": {},
   "outputs": [
    {
     "data": {
      "text/plain": [
       "age_cat\n",
       "3    13507\n",
       "4     8426\n",
       "5     5440\n",
       "2     4534\n",
       "6      594\n",
       "7      258\n",
       "8      115\n",
       "1       56\n",
       "9       10\n",
       "Name: count, dtype: int64"
      ]
     },
     "execution_count": 18,
     "metadata": {},
     "output_type": "execute_result"
    }
   ],
   "source": [
    "train_inputs['age_cat'].value_counts()"
   ]
  },
  {
   "cell_type": "markdown",
   "metadata": {},
   "source": [
    "### `campaign`"
   ]
  },
  {
   "cell_type": "markdown",
   "metadata": {},
   "source": [
    "Let's create indicator if the client had only one contact performed during this campaign."
   ]
  },
  {
   "cell_type": "code",
   "execution_count": 19,
   "metadata": {},
   "outputs": [],
   "source": [
    "train_inputs['is_only_one_contact'] = (train_inputs['campaign'] == 1).astype(int)"
   ]
  },
  {
   "cell_type": "code",
   "execution_count": 20,
   "metadata": {},
   "outputs": [
    {
     "data": {
      "text/plain": [
       "campaign\n",
       "1    14158\n",
       "2     8409\n",
       "3     4280\n",
       "4     2094\n",
       "5     1292\n",
       "Name: count, dtype: int64"
      ]
     },
     "metadata": {},
     "output_type": "display_data"
    },
    {
     "data": {
      "text/plain": [
       "is_only_one_contact\n",
       "0    18782\n",
       "1    14158\n",
       "Name: count, dtype: int64"
      ]
     },
     "metadata": {},
     "output_type": "display_data"
    }
   ],
   "source": [
    "display(train_inputs['campaign'].value_counts()[:5])\n",
    "display(train_inputs['is_only_one_contact'].value_counts())"
   ]
  },
  {
   "cell_type": "code",
   "execution_count": 21,
   "metadata": {},
   "outputs": [
    {
     "data": {
      "text/plain": [
       "campaign\n",
       "1    14158\n",
       "2     8409\n",
       "3     4280\n",
       "4     2094\n",
       "5     1292\n",
       "6      796\n",
       "7      510\n",
       "Name: count, dtype: int64"
      ]
     },
     "metadata": {},
     "output_type": "display_data"
    }
   ],
   "source": [
    "display(train_inputs['campaign'].value_counts()[:7])"
   ]
  },
  {
   "cell_type": "markdown",
   "metadata": {},
   "source": [
    "Let's also create an indicator feature for clients who had more than 6 contacts during this campaign, as they could be considered outliers."
   ]
  },
  {
   "cell_type": "code",
   "execution_count": 22,
   "metadata": {},
   "outputs": [
    {
     "data": {
      "text/plain": [
       "more_than_six_contacts\n",
       "0    31029\n",
       "1     1911\n",
       "Name: count, dtype: int64"
      ]
     },
     "execution_count": 22,
     "metadata": {},
     "output_type": "execute_result"
    }
   ],
   "source": [
    "train_inputs['more_than_six_contacts'] = (train_inputs['campaign'] > 6).astype(int)\n",
    "train_inputs['more_than_six_contacts'].value_counts()"
   ]
  },
  {
   "cell_type": "markdown",
   "metadata": {},
   "source": [
    "### `previous`"
   ]
  },
  {
   "cell_type": "code",
   "execution_count": 23,
   "metadata": {},
   "outputs": [
    {
     "data": {
      "text/plain": [
       "previous\n",
       "0    28431\n",
       "1     3660\n",
       "2      592\n",
       "3      175\n",
       "4       61\n",
       "5       15\n",
       "6        5\n",
       "7        1\n",
       "Name: count, dtype: int64"
      ]
     },
     "execution_count": 23,
     "metadata": {},
     "output_type": "execute_result"
    }
   ],
   "source": [
    "train_inputs['previous'].value_counts()"
   ]
  },
  {
   "cell_type": "markdown",
   "metadata": {},
   "source": [
    "Let's create a new binary feature, `previous_contact`, to indicate whether the client was contacted before."
   ]
  },
  {
   "cell_type": "code",
   "execution_count": 24,
   "metadata": {},
   "outputs": [
    {
     "data": {
      "text/plain": [
       "previous_contact\n",
       "0    28431\n",
       "1     4509\n",
       "Name: count, dtype: int64"
      ]
     },
     "execution_count": 24,
     "metadata": {},
     "output_type": "execute_result"
    }
   ],
   "source": [
    "train_inputs['previous_contact'] = (train_inputs['previous'] > 0).astype(int)\n",
    "train_inputs['previous_contact'].value_counts()"
   ]
  },
  {
   "cell_type": "markdown",
   "metadata": {},
   "source": [
    "### `pdays`"
   ]
  },
  {
   "cell_type": "markdown",
   "metadata": {},
   "source": [
    "Let's add information about recent contact (`pdays < 7`)\n"
   ]
  },
  {
   "cell_type": "code",
   "execution_count": 25,
   "metadata": {},
   "outputs": [],
   "source": [
    "train_inputs['recent_contact'] = (train_inputs['pdays'] < 7).astype(int)"
   ]
  },
  {
   "cell_type": "code",
   "execution_count": 26,
   "metadata": {},
   "outputs": [
    {
     "data": {
      "text/plain": [
       "recent_contact\n",
       "0    32059\n",
       "1      881\n",
       "Name: count, dtype: int64"
      ]
     },
     "execution_count": 26,
     "metadata": {},
     "output_type": "execute_result"
    }
   ],
   "source": [
    "train_inputs['recent_contact'].value_counts()"
   ]
  },
  {
   "cell_type": "markdown",
   "metadata": {},
   "source": [
    "Additionally, let's create additional indicator features to mark whether is 3 or 6 days have passed since the client was last contacted from a previous campaign."
   ]
  },
  {
   "cell_type": "code",
   "execution_count": 27,
   "metadata": {},
   "outputs": [],
   "source": [
    "train_inputs['pdays_3'] = (train_inputs['pdays'] == 3).astype(int)\n",
    "train_inputs['pdays_6'] = (train_inputs['pdays'] == 6).astype(int)"
   ]
  },
  {
   "cell_type": "markdown",
   "metadata": {},
   "source": [
    "### `education`"
   ]
  },
  {
   "cell_type": "code",
   "execution_count": 28,
   "metadata": {},
   "outputs": [
    {
     "data": {
      "text/plain": [
       "array(['professional.course', 'university.degree', 'basic.9y',\n",
       "       'high.school', 'basic.4y', 'unknown', 'basic.6y', 'illiterate'],\n",
       "      dtype=object)"
      ]
     },
     "execution_count": 28,
     "metadata": {},
     "output_type": "execute_result"
    }
   ],
   "source": [
    "train_inputs['education'].unique()"
   ]
  },
  {
   "cell_type": "markdown",
   "metadata": {},
   "source": [
    "Let's add information about education level:\n",
    "- high education: `university.degree`, `professional.course`\n",
    "- basic: `basic.9y`, `basic.4y`, `basic.6y`\n"
   ]
  },
  {
   "cell_type": "code",
   "execution_count": 29,
   "metadata": {},
   "outputs": [],
   "source": [
    "train_inputs['is_hight_education'] = (train_inputs['education']\n",
    "                                      .isin(['university.degree', 'professional.course'])\n",
    "                                      .astype(int))\n",
    "\n",
    "train_inputs['is_basic_education'] = (train_inputs['education']\n",
    "                                      .isin(['basic.4y', 'basic.9y', 'basic.6y'])\n",
    "                                      .astype(int))"
   ]
  },
  {
   "cell_type": "markdown",
   "metadata": {},
   "source": [
    "### Social and Economic Context Attributes\n",
    "\n",
    "'emp.var.rate', 'cons.price.idx', 'cons.conf.idx',\n",
    "       'euribor3m', 'nr.employed'"
   ]
  },
  {
   "cell_type": "code",
   "execution_count": 30,
   "metadata": {},
   "outputs": [
    {
     "data": {
      "text/html": [
       "<div>\n",
       "<style scoped>\n",
       "    .dataframe tbody tr th:only-of-type {\n",
       "        vertical-align: middle;\n",
       "    }\n",
       "\n",
       "    .dataframe tbody tr th {\n",
       "        vertical-align: top;\n",
       "    }\n",
       "\n",
       "    .dataframe thead th {\n",
       "        text-align: right;\n",
       "    }\n",
       "</style>\n",
       "<table border=\"1\" class=\"dataframe\">\n",
       "  <thead>\n",
       "    <tr style=\"text-align: right;\">\n",
       "      <th></th>\n",
       "      <th>emp.var.rate</th>\n",
       "      <th>cons.price.idx</th>\n",
       "      <th>cons.conf.idx</th>\n",
       "      <th>euribor3m</th>\n",
       "      <th>nr.employed</th>\n",
       "    </tr>\n",
       "  </thead>\n",
       "  <tbody>\n",
       "    <tr>\n",
       "      <th>count</th>\n",
       "      <td>32,940.00</td>\n",
       "      <td>32,940.00</td>\n",
       "      <td>32,940.00</td>\n",
       "      <td>32,940.00</td>\n",
       "      <td>32,940.00</td>\n",
       "    </tr>\n",
       "    <tr>\n",
       "      <th>mean</th>\n",
       "      <td>0.08</td>\n",
       "      <td>93.58</td>\n",
       "      <td>-40.51</td>\n",
       "      <td>3.62</td>\n",
       "      <td>5,166.91</td>\n",
       "    </tr>\n",
       "    <tr>\n",
       "      <th>std</th>\n",
       "      <td>1.57</td>\n",
       "      <td>0.58</td>\n",
       "      <td>4.63</td>\n",
       "      <td>1.74</td>\n",
       "      <td>72.40</td>\n",
       "    </tr>\n",
       "    <tr>\n",
       "      <th>min</th>\n",
       "      <td>-3.40</td>\n",
       "      <td>92.20</td>\n",
       "      <td>-50.80</td>\n",
       "      <td>0.63</td>\n",
       "      <td>4,963.60</td>\n",
       "    </tr>\n",
       "    <tr>\n",
       "      <th>25%</th>\n",
       "      <td>-1.80</td>\n",
       "      <td>93.08</td>\n",
       "      <td>-42.70</td>\n",
       "      <td>1.34</td>\n",
       "      <td>5,099.10</td>\n",
       "    </tr>\n",
       "    <tr>\n",
       "      <th>50%</th>\n",
       "      <td>1.10</td>\n",
       "      <td>93.75</td>\n",
       "      <td>-41.80</td>\n",
       "      <td>4.86</td>\n",
       "      <td>5,191.00</td>\n",
       "    </tr>\n",
       "    <tr>\n",
       "      <th>75%</th>\n",
       "      <td>1.40</td>\n",
       "      <td>93.99</td>\n",
       "      <td>-36.40</td>\n",
       "      <td>4.96</td>\n",
       "      <td>5,228.10</td>\n",
       "    </tr>\n",
       "    <tr>\n",
       "      <th>max</th>\n",
       "      <td>1.40</td>\n",
       "      <td>94.77</td>\n",
       "      <td>-26.90</td>\n",
       "      <td>5.04</td>\n",
       "      <td>5,228.10</td>\n",
       "    </tr>\n",
       "  </tbody>\n",
       "</table>\n",
       "</div>"
      ],
      "text/plain": [
       "       emp.var.rate  cons.price.idx  cons.conf.idx  euribor3m  nr.employed\n",
       "count     32,940.00       32,940.00      32,940.00  32,940.00    32,940.00\n",
       "mean           0.08           93.58         -40.51       3.62     5,166.91\n",
       "std            1.57            0.58           4.63       1.74        72.40\n",
       "min           -3.40           92.20         -50.80       0.63     4,963.60\n",
       "25%           -1.80           93.08         -42.70       1.34     5,099.10\n",
       "50%            1.10           93.75         -41.80       4.86     5,191.00\n",
       "75%            1.40           93.99         -36.40       4.96     5,228.10\n",
       "max            1.40           94.77         -26.90       5.04     5,228.10"
      ]
     },
     "execution_count": 30,
     "metadata": {},
     "output_type": "execute_result"
    }
   ],
   "source": [
    "train_inputs[['emp.var.rate', 'cons.price.idx', 'cons.conf.idx',\n",
    "       'euribor3m', 'nr.employed']].describe()"
   ]
  },
  {
   "cell_type": "code",
   "execution_count": null,
   "metadata": {},
   "outputs": [],
   "source": [
    "train_inputs['nr.employed_to_emp.var.rate'] = (train_inputs['nr.employed']\n",
    "                                               / train_inputs['emp.var.rate'])\n",
    "\n",
    "train_inputs['cons.price.idx_to_cons.conf.idx'] = (train_inputs['cons.price.idx']\n",
    "                                                   / train_inputs['cons.conf.idx'])\n",
    "\n",
    "train_inputs['euribor3m_to_emp.var.rate'] = (train_inputs['euribor3m']\n",
    "                                             / train_inputs['emp.var.rate'])\n",
    "\n",
    "train_inputs['cons.price.idx_to_emp.var.rate'] = (train_inputs['cons.price.idx']\n",
    "                                                  / train_inputs['emp.var.rate'])\n",
    "\n",
    "train_inputs['cons.price.idx_to_euribor3m'] = (train_inputs['cons.price.idx']\n",
    "                                               / train_inputs['euribor3m'])\n",
    "\n",
    "train_inputs['cons.conf.idx_to_euribor3m'] = (train_inputs['cons.conf.idx']\n",
    "                                              / train_inputs['euribor3m'])"
   ]
  },
  {
   "cell_type": "markdown",
   "metadata": {},
   "source": [
    "### Ordinal Encoding for `education`"
   ]
  },
  {
   "cell_type": "code",
   "execution_count": 13,
   "metadata": {},
   "outputs": [],
   "source": [
    "ordinal_mapping_education = ['unknown', 'illiterate', 'basic.4y', 'basic.6y',\n",
    "                             'basic.9y', 'high.school', 'professional.course',\n",
    "                             'university.degree']\n",
    "\n",
    "ordinal_enc = OrdinalEncoder(categories=[ordinal_mapping_education])"
   ]
  },
  {
   "cell_type": "code",
   "execution_count": 14,
   "metadata": {},
   "outputs": [],
   "source": [
    "ordinal_enc_cols = ['education']"
   ]
  },
  {
   "cell_type": "code",
   "execution_count": 39,
   "metadata": {},
   "outputs": [
    {
     "data": {
      "text/html": [
       "<div>\n",
       "<style scoped>\n",
       "    .dataframe tbody tr th:only-of-type {\n",
       "        vertical-align: middle;\n",
       "    }\n",
       "\n",
       "    .dataframe tbody tr th {\n",
       "        vertical-align: top;\n",
       "    }\n",
       "\n",
       "    .dataframe thead th {\n",
       "        text-align: right;\n",
       "    }\n",
       "</style>\n",
       "<table border=\"1\" class=\"dataframe\">\n",
       "  <thead>\n",
       "    <tr style=\"text-align: right;\">\n",
       "      <th></th>\n",
       "      <th>education</th>\n",
       "    </tr>\n",
       "  </thead>\n",
       "  <tbody>\n",
       "    <tr>\n",
       "      <th>36444</th>\n",
       "      <td>6.00</td>\n",
       "    </tr>\n",
       "    <tr>\n",
       "      <th>1233</th>\n",
       "      <td>6.00</td>\n",
       "    </tr>\n",
       "    <tr>\n",
       "      <th>24104</th>\n",
       "      <td>7.00</td>\n",
       "    </tr>\n",
       "    <tr>\n",
       "      <th>15513</th>\n",
       "      <td>4.00</td>\n",
       "    </tr>\n",
       "    <tr>\n",
       "      <th>17912</th>\n",
       "      <td>5.00</td>\n",
       "    </tr>\n",
       "    <tr>\n",
       "      <th>8504</th>\n",
       "      <td>2.00</td>\n",
       "    </tr>\n",
       "    <tr>\n",
       "      <th>24130</th>\n",
       "      <td>4.00</td>\n",
       "    </tr>\n",
       "    <tr>\n",
       "      <th>2680</th>\n",
       "      <td>0.00</td>\n",
       "    </tr>\n",
       "    <tr>\n",
       "      <th>5824</th>\n",
       "      <td>4.00</td>\n",
       "    </tr>\n",
       "    <tr>\n",
       "      <th>37518</th>\n",
       "      <td>5.00</td>\n",
       "    </tr>\n",
       "  </tbody>\n",
       "</table>\n",
       "</div>"
      ],
      "text/plain": [
       "       education\n",
       "36444       6.00\n",
       "1233        6.00\n",
       "24104       7.00\n",
       "15513       4.00\n",
       "17912       5.00\n",
       "8504        2.00\n",
       "24130       4.00\n",
       "2680        0.00\n",
       "5824        4.00\n",
       "37518       5.00"
      ]
     },
     "execution_count": 39,
     "metadata": {},
     "output_type": "execute_result"
    }
   ],
   "source": [
    "ordinal_enc.fit(train_inputs[ordinal_enc_cols]).set_output(transform='pandas')\n",
    "ordinal_enc.transform(train_inputs[ordinal_enc_cols])[:10]"
   ]
  },
  {
   "cell_type": "markdown",
   "metadata": {},
   "source": [
    "### One Hot Encoding"
   ]
  },
  {
   "cell_type": "code",
   "execution_count": 15,
   "metadata": {},
   "outputs": [],
   "source": [
    "one_hot_enc_cols = ['job', 'marital', 'default', 'housing', 'loan',\n",
    "                    'contact', 'month', 'day_of_week', 'poutcome', 'previous']"
   ]
  },
  {
   "cell_type": "markdown",
   "metadata": {},
   "source": [
    "## Function for Feature Engineering"
   ]
  },
  {
   "cell_type": "code",
   "execution_count": 149,
   "metadata": {},
   "outputs": [],
   "source": [
    "def feat_eng(inputs):\n",
    "    inputs['age_cat'] = (inputs['age'] // 10)\n",
    "    inputs['is_only_one_contact'] = (inputs['campaign'] == 1).astype(int)\n",
    "    inputs['more_than_six_contacts'] = (inputs['campaign'] > 6).astype(int)\n",
    "    inputs['previous_contact'] = (inputs['previous'] > 0).astype(int)\n",
    "    inputs['recent_contact'] = (inputs['pdays'] < 7).astype(int)\n",
    "    inputs['pdays_3'] = (inputs['pdays'] == 3).astype(int)\n",
    "    inputs['pdays_6'] = (inputs['pdays'] == 6).astype(int)\n",
    "    inputs['is_hight_education'] = (inputs['education']\n",
    "                                    .isin(['university.degree', 'professional.course'])\n",
    "                                    .astype(int))\n",
    "    inputs['is_basic_education'] = (inputs['education']\n",
    "                                    .isin(['basic.4y', 'basic.9y', 'basic.6y'])\n",
    "                                    .astype(int))\n",
    "    inputs['nr.employed_to_emp.var.rate'] = (inputs['nr.employed']\n",
    "                                             / inputs['emp.var.rate'])\n",
    "    inputs['cons.price.idx_to_cons.conf.idx'] = (inputs['cons.price.idx']\n",
    "                                                 / inputs['cons.conf.idx'])\n",
    "    inputs['euribor3m_to_emp.var.rate'] = (inputs['euribor3m']\n",
    "                                           / inputs['emp.var.rate'])\n",
    "    inputs['cons.price.idx_to_emp.var.rate'] = (inputs['cons.price.idx']\n",
    "                                                / inputs['emp.var.rate'])\n",
    "    inputs['cons.price.idx_to_euribor3m'] = (inputs['cons.price.idx']\n",
    "                                             / inputs['euribor3m'])\n",
    "    inputs['cons.conf.idx_to_euribor3m'] = (inputs['cons.conf.idx']\n",
    "                                            / inputs['euribor3m'])"
   ]
  },
  {
   "cell_type": "code",
   "execution_count": 150,
   "metadata": {},
   "outputs": [],
   "source": [
    "feat_eng(train_inputs)"
   ]
  },
  {
   "cell_type": "markdown",
   "metadata": {},
   "source": [
    "## Pipeline"
   ]
  },
  {
   "cell_type": "markdown",
   "metadata": {},
   "source": [
    "Thus only LogisticRegression and KNeighborsClassifier require scaling data, let's apply `numerical_transformer` only for these models."
   ]
  },
  {
   "cell_type": "code",
   "execution_count": 151,
   "metadata": {},
   "outputs": [],
   "source": [
    "numeric_cols = train_inputs.select_dtypes('number').columns.to_list()"
   ]
  },
  {
   "cell_type": "code",
   "execution_count": 153,
   "metadata": {},
   "outputs": [],
   "source": [
    "preprocessor_num = ColumnTransformer(\n",
    "    transformers=[\n",
    "        ('num', numerical_transformer, numeric_cols),\n",
    "        ('onehot_enc', categorical_transformer, categorical_cols),\n",
    "    ],\n",
    "        remainder='passthrough',\n",
    "        force_int_remainder_cols=False,\n",
    "        verbose_feature_names_out=False\n",
    ").set_output(transform='pandas')\n",
    "\n",
    "preprocessor_cat = ColumnTransformer(\n",
    "    transformers=[\n",
    "        ('onehot_enc', categorical_transformer, one_hot_enc_cols),\n",
    "        ('ord_enc', ordinal_enc, ordinal_enc_cols),\n",
    "    ], remainder='passthrough',\n",
    "    force_int_remainder_cols=False,\n",
    "    verbose_feature_names_out=False\n",
    ").set_output(transform='pandas')"
   ]
  },
  {
   "cell_type": "code",
   "execution_count": 154,
   "metadata": {},
   "outputs": [
    {
     "data": {
      "text/plain": [
       "7.876"
      ]
     },
     "execution_count": 154,
     "metadata": {},
     "output_type": "execute_result"
    }
   ],
   "source": [
    "# calculate scale_pos_weight\n",
    "scale_pos_weight = np.round(((len(train_targets) - sum(train_targets)) / sum(train_targets)), 3)\n",
    "scale_pos_weight"
   ]
  },
  {
   "cell_type": "code",
   "execution_count": 23,
   "metadata": {},
   "outputs": [],
   "source": [
    "log_reg = LogisticRegression(random_state=42, solver='liblinear', class_weight='balanced')\n",
    "knn = KNeighborsClassifier(n_neighbors=15)\n",
    "dt = DecisionTreeClassifier(max_depth=5, random_state=42, class_weight='balanced')\n",
    "rf = RandomForestClassifier(max_depth=5, random_state=42, class_weight='balanced')\n",
    "\n",
    "xgb = XGBClassifier(n_estimators=50,\n",
    "                    max_depth=5,\n",
    "                    learning_rate=0.1,\n",
    "                    scale_pos_weight=scale_pos_weight,\n",
    "                    random_state=42)\n",
    "\n",
    "lgb = LGBMClassifier(n_estimators=50,\n",
    "                     max_depth=7,\n",
    "                     learning_rate=0.03,\n",
    "                     scale_pos_weight=scale_pos_weight,\n",
    "                     random_state=42,\n",
    "                     verbose=0)"
   ]
  },
  {
   "cell_type": "code",
   "execution_count": 24,
   "metadata": {},
   "outputs": [
    {
     "name": "stdout",
     "output_type": "stream",
     "text": [
      "LogisticRegression\n",
      "AUROC score on train set:: 0.798\n",
      "AUROC score on validation set:: 0.792\n",
      "KNeighborsClassifier\n",
      "AUROC score on train set:: 0.870\n",
      "AUROC score on validation set:: 0.746\n",
      "DecisionTreeClassifier\n",
      "AUROC score on train set:: 0.792\n",
      "AUROC score on validation set:: 0.776\n",
      "RandomForestClassifier\n",
      "AUROC score on train set:: 0.807\n",
      "AUROC score on validation set:: 0.794\n",
      "XGBClassifier\n",
      "AUROC score on train set:: 0.841\n",
      "AUROC score on validation set:: 0.799\n",
      "LGBMClassifier\n",
      "AUROC score on train set:: 0.837\n",
      "AUROC score on validation set:: 0.800\n"
     ]
    }
   ],
   "source": [
    "# List for saving results\n",
    "results = []\n",
    "\n",
    "for clf in [log_reg, knn]:\n",
    "    print(f\"{str(clf).split('(')[0]}\")\n",
    "    res = get_eval_results(preprocessor_num, clf, train_inputs, train_targets)\n",
    "    results.append(res)\n",
    "\n",
    "for clf in [dt, rf, xgb, lgb]:\n",
    "    print(f\"{str(clf).split('(')[0]}\")\n",
    "    res = get_eval_results(preprocessor_cat, clf, train_inputs, train_targets)\n",
    "    results.append(res)"
   ]
  },
  {
   "cell_type": "code",
   "execution_count": 25,
   "metadata": {},
   "outputs": [
    {
     "data": {
      "text/html": [
       "<style type=\"text/css\">\n",
       "#T_18038_row1_col2, #T_18038_row5_col3 {\n",
       "  background-color: tan;\n",
       "}\n",
       "</style>\n",
       "<table id=\"T_18038\">\n",
       "  <thead>\n",
       "    <tr>\n",
       "      <th class=\"blank level0\" >&nbsp;</th>\n",
       "      <th id=\"T_18038_level0_col0\" class=\"col_heading level0 col0\" >model_name</th>\n",
       "      <th id=\"T_18038_level0_col1\" class=\"col_heading level0 col1\" >params</th>\n",
       "      <th id=\"T_18038_level0_col2\" class=\"col_heading level0 col2\" >AUROC on train</th>\n",
       "      <th id=\"T_18038_level0_col3\" class=\"col_heading level0 col3\" >AUROC on validation</th>\n",
       "    </tr>\n",
       "  </thead>\n",
       "  <tbody>\n",
       "    <tr>\n",
       "      <th id=\"T_18038_level0_row0\" class=\"row_heading level0 row0\" >0</th>\n",
       "      <td id=\"T_18038_row0_col0\" class=\"data row0 col0\" >LogisticRegression</td>\n",
       "      <td id=\"T_18038_row0_col1\" class=\"data row0 col1\" >class_weight='balanced', random_state=42, solver='liblinear'</td>\n",
       "      <td id=\"T_18038_row0_col2\" class=\"data row0 col2\" >0.797910</td>\n",
       "      <td id=\"T_18038_row0_col3\" class=\"data row0 col3\" >0.791954</td>\n",
       "    </tr>\n",
       "    <tr>\n",
       "      <th id=\"T_18038_level0_row1\" class=\"row_heading level0 row1\" >1</th>\n",
       "      <td id=\"T_18038_row1_col0\" class=\"data row1 col0\" >KNeighborsClassifier</td>\n",
       "      <td id=\"T_18038_row1_col1\" class=\"data row1 col1\" >n_neighbors=15</td>\n",
       "      <td id=\"T_18038_row1_col2\" class=\"data row1 col2\" >0.869958</td>\n",
       "      <td id=\"T_18038_row1_col3\" class=\"data row1 col3\" >0.746194</td>\n",
       "    </tr>\n",
       "    <tr>\n",
       "      <th id=\"T_18038_level0_row2\" class=\"row_heading level0 row2\" >2</th>\n",
       "      <td id=\"T_18038_row2_col0\" class=\"data row2 col0\" >DecisionTreeClassifier</td>\n",
       "      <td id=\"T_18038_row2_col1\" class=\"data row2 col1\" >class_weight='balanced', max_depth=5, random_state=42</td>\n",
       "      <td id=\"T_18038_row2_col2\" class=\"data row2 col2\" >0.791737</td>\n",
       "      <td id=\"T_18038_row2_col3\" class=\"data row2 col3\" >0.776121</td>\n",
       "    </tr>\n",
       "    <tr>\n",
       "      <th id=\"T_18038_level0_row3\" class=\"row_heading level0 row3\" >3</th>\n",
       "      <td id=\"T_18038_row3_col0\" class=\"data row3 col0\" >RandomForestClassifier</td>\n",
       "      <td id=\"T_18038_row3_col1\" class=\"data row3 col1\" >class_weight='balanced', max_depth=5, random_state=42</td>\n",
       "      <td id=\"T_18038_row3_col2\" class=\"data row3 col2\" >0.807036</td>\n",
       "      <td id=\"T_18038_row3_col3\" class=\"data row3 col3\" >0.794278</td>\n",
       "    </tr>\n",
       "    <tr>\n",
       "      <th id=\"T_18038_level0_row4\" class=\"row_heading level0 row4\" >4</th>\n",
       "      <td id=\"T_18038_row4_col0\" class=\"data row4 col0\" >XGBClassifier</td>\n",
       "      <td id=\"T_18038_row4_col1\" class=\"data row4 col1\" >base_score=None, booster=None, callbacks=None,\n",
       "              colsample_bylevel=None, colsample_bynode=None,\n",
       "              colsample_bytree=None, device=None, early_stopping_rounds=None,\n",
       "              enable_categorical=False, eval_metric=None, feature_types=None,\n",
       "              gamma=None, grow_policy=None, importance_type=None,\n",
       "              interaction_constraints=None, learning_rate=0.1, max_bin=None,\n",
       "              max_cat_threshold=None, max_cat_to_onehot=None,\n",
       "              max_delta_step=None, max_depth=5, max_leaves=None,\n",
       "              min_child_weight=None, missing=nan, monotone_constraints=None,\n",
       "              multi_strategy=None, n_estimators=50, n_jobs=None,\n",
       "              num_parallel_tree=None, random_state=42, ...</td>\n",
       "      <td id=\"T_18038_row4_col2\" class=\"data row4 col2\" >0.841022</td>\n",
       "      <td id=\"T_18038_row4_col3\" class=\"data row4 col3\" >0.798683</td>\n",
       "    </tr>\n",
       "    <tr>\n",
       "      <th id=\"T_18038_level0_row5\" class=\"row_heading level0 row5\" >5</th>\n",
       "      <td id=\"T_18038_row5_col0\" class=\"data row5 col0\" >LGBMClassifier</td>\n",
       "      <td id=\"T_18038_row5_col1\" class=\"data row5 col1\" >learning_rate=0.03, max_depth=7, n_estimators=50,\n",
       "               random_state=42, scale_pos_weight=7.876, verbose=0</td>\n",
       "      <td id=\"T_18038_row5_col2\" class=\"data row5 col2\" >0.837027</td>\n",
       "      <td id=\"T_18038_row5_col3\" class=\"data row5 col3\" >0.799670</td>\n",
       "    </tr>\n",
       "  </tbody>\n",
       "</table>\n"
      ],
      "text/plain": [
       "<pandas.io.formats.style.Styler at 0x20f3799c9b0>"
      ]
     },
     "execution_count": 25,
     "metadata": {},
     "output_type": "execute_result"
    }
   ],
   "source": [
    "pd.DataFrame(results).style.highlight_max(\n",
    "    subset=['AUROC on train', 'AUROC on validation'],\n",
    "    color='tan')"
   ]
  },
  {
   "cell_type": "markdown",
   "metadata": {},
   "source": [
    "**Model Performance Analysis & Conclusion**\n",
    "1. `Logistic Regression` performs very well both on the train and validation sets, has good generalization with minimal overfitting. This makes it a strong, reliable model.\n",
    "2. `K-Nearest Neighbors (KNN)` – Overfitting Issue\n",
    "    - KNN shows high overfitting: it performs very well on the train set but drops significantly on validation.\n",
    "    - This suggests that the model struggles to generalize to unseen data, possibly due to sensitivity to noise and feature scaling.\n",
    "3. `Decision Tree` – Overfitting Controlled, but Moderate Performance\n",
    "    - The gap between training and validation AUROC is small, meaning the model generalizes better than KNN but still has lower overall performance compared to ensemble methods.\n",
    "4. `Random Forest` – Balanced Performance\n",
    "    - Performs slightly better than Logistic Regression, performs consistently well on both train and validation sets, has good generalization, but slightly higher overfitting gap.\n",
    "5. `XGBoost` and `LightGBM` achieved similar performance and the highest AUROC scores (0.799 on validation), indicating strong predictive power. Both models show overfitting, as their train AUROC scores significantly higher the validation AUROC scores. No significant performance gap between them, meaning both can be viable choices for further optimization. `LGBMClassifier` achieves the highest validation AUROC, meaning it generalizes best among all models.\n",
    "\n",
    "**Final Conclusion & Next Steps**\n",
    "- Boosting Models (XGB, LGBM) are strong candidates: Their AUROC ~0.799 on validation suggests they can be further improved with hyperparameter tuning and feature engineering.\n",
    "- Random Forest performs well: 0.794 AUROC makes it a strong non-boosting alternative, benefiting from less sensitivity to hyperparameters than boosting methods.\n",
    "- Logistic Regression is a simple yet effective baseline: 0.792 AUROC shows that even a linear model performs competitively, making it a good benchmark.\n",
    "\n",
    "**Next Steps:**\n",
    "- Hyperparameter tuning: Fine-tune XGB, LGBM, and RF for possible performance gains.\n",
    "- Feature selection and engineering: Investigate feature importance to refine model input.\n",
    "- Class imbalance handling: If applicable, test SMOTENC or other resampling methods."
   ]
  },
  {
   "cell_type": "markdown",
   "metadata": {},
   "source": [
    "## Hyperparameters Tuning"
   ]
  },
  {
   "cell_type": "markdown",
   "metadata": {},
   "source": [
    "### RandomizedSearchCV for Random Forest"
   ]
  },
  {
   "cell_type": "code",
   "execution_count": 71,
   "metadata": {},
   "outputs": [
    {
     "name": "stdout",
     "output_type": "stream",
     "text": [
      "Fitting 3 folds for each of 50 candidates, totalling 150 fits\n",
      "{'clf__min_samples_split': 2, 'clf__min_samples_leaf': 6, 'clf__max_leaf_nodes': 176, 'clf__max_features': 'sqrt', 'clf__max_depth': 10, 'clf__criterion': 'entropy'}\n",
      "AUROC score on train set:: 0.858\n",
      "AUROC score on validation set:: 0.801\n",
      "CPU times: total: 12min 15s\n",
      "Wall time: 12min 19s\n"
     ]
    },
    {
     "data": {
      "text/plain": [
       "(0.8577822961730597, 0.8012204133982505)"
      ]
     },
     "execution_count": 71,
     "metadata": {},
     "output_type": "execute_result"
    }
   ],
   "source": [
    "%%time\n",
    "clf_rf = RandomForestClassifier(random_state=42, class_weight='balanced')\n",
    "\n",
    "model_pipeline = Pipeline(steps=[\n",
    "    ('preprocessor', preprocessor_cat),\n",
    "    ('clf', clf_rf)\n",
    "])\n",
    "\n",
    "rf_param_grid = {\n",
    "    'clf__criterion': ['gini', 'entropy'],\n",
    "    'clf__max_depth': range(2, 21),\n",
    "    'clf__max_leaf_nodes': range(10, 250),\n",
    "    'clf__min_samples_split': range(2, 11),\n",
    "    'clf__min_samples_leaf': range(1, 11),\n",
    "    'clf__max_features': [None, 'sqrt', 'log2'],\n",
    "}\n",
    "\n",
    "randomized_rf = RandomizedSearchCV(model_pipeline, rf_param_grid,\n",
    "                                    n_iter=50, scoring='roc_auc', cv=3, verbose=1)\n",
    "\n",
    "randomized_rf.fit(train_inputs, train_targets)\n",
    "\n",
    "rf_random_search_best = randomized_rf.best_estimator_\n",
    "print(randomized_rf.best_params_)\n",
    "get_auc(rf_random_search_best, train_inputs, train_targets)"
   ]
  },
  {
   "cell_type": "markdown",
   "metadata": {},
   "source": [
    "- After applying `RandomizedSearchCV` for hyperparameter tuning, the `RandomForestClassifier` improved its performance:\n",
    "    - Train AUROC: 0.807 → 0.858 (significantly improvement)\n",
    "    - Validation AUROC: 0.794 → 0.801 (improved)\n",
    "- Hyperparameter tuning improved generalization slightly, with a +0.007 increase in validation AUROC but significantly increase overfitting gap."
   ]
  },
  {
   "cell_type": "markdown",
   "metadata": {},
   "source": [
    "### RandomizedSearchCV for XGBoostClassifier"
   ]
  },
  {
   "cell_type": "code",
   "execution_count": 73,
   "metadata": {},
   "outputs": [
    {
     "name": "stdout",
     "output_type": "stream",
     "text": [
      "Fitting 3 folds for each of 50 candidates, totalling 150 fits\n",
      "{'clf__scale_pos_weight': 7.599999999999987, 'clf__n_estimators': 425, 'clf__min_child_weight': 18, 'clf__max_depth': 5, 'clf__learning_rate': 0.16000000000000003, 'clf__gamma': 6}\n",
      "AUROC score on train set:: 0.838\n",
      "AUROC score on validation set:: 0.801\n",
      "CPU times: total: 6min 56s\n",
      "Wall time: 2min 13s\n"
     ]
    },
    {
     "data": {
      "text/plain": [
       "(0.8379192215137884, 0.8011699795496069)"
      ]
     },
     "execution_count": 73,
     "metadata": {},
     "output_type": "execute_result"
    }
   ],
   "source": [
    "%%time\n",
    "clf = XGBClassifier(random_state=42)\n",
    "\n",
    "model_pipeline = Pipeline(steps=[\n",
    "    ('preprocessor', preprocessor_cat),\n",
    "    ('clf', clf)\n",
    "])\n",
    "\n",
    "xgb_param_grid = {\n",
    "    'clf__n_estimators':     np.arange(50, 500, 25),\n",
    "    'clf__max_depth':        np.arange(2, 20, 1),\n",
    "    'clf__learning_rate':    np.arange(0.01, 1, 0.05),\n",
    "    'clf__scale_pos_weight': np.arange(7, 8, 0.01),\n",
    "    'clf__min_child_weight': np.arange(1, 50, 1),\n",
    "    'clf__gamma':            np.arange(0, 10, 1),\n",
    "}\n",
    "\n",
    "randomized_xgb = RandomizedSearchCV(model_pipeline, xgb_param_grid,\n",
    "                                    n_iter=50, scoring='roc_auc', cv=3, verbose=1)\n",
    "\n",
    "randomized_xgb.fit(train_inputs, train_targets)\n",
    "\n",
    "xgb_random_search_best = randomized_xgb.best_estimator_\n",
    "print(randomized_xgb.best_params_)\n",
    "get_auc(xgb_random_search_best, train_inputs, train_targets)"
   ]
  },
  {
   "cell_type": "markdown",
   "metadata": {},
   "source": [
    "- After applying `RandomizedSearchCV` for hyperparameter tuning, the `XGBClassifier` improved its performance:\n",
    "    - Train AUROC: 0.841 ← 0.838 (decrease)\n",
    "    - Validation AUROC: 0.799 → 0.801 (slightly improvement)\n",
    "- Hyperparameter tuning improved generalization slightly, with a +0.002 increase in validation AUROC and decrease overfitting gap."
   ]
  },
  {
   "cell_type": "markdown",
   "metadata": {},
   "source": [
    "### Hyperopt for LGBMClassifier"
   ]
  },
  {
   "cell_type": "code",
   "execution_count": 155,
   "metadata": {},
   "outputs": [
    {
     "name": "stdout",
     "output_type": "stream",
     "text": [
      "100%|██████████| 30/30 [03:25<00:00,  6.84s/trial, best loss: -0.8015639499126473]\n",
      "The best hyperparameters: {'colsample_bytree': 0.6796274949129392, 'learning_rate': 0.0030998891517021107, 'max_depth': 5, 'metric': 'auc', 'min_child_weight': 7, 'min_split_gain': 0.09286221963181833, 'n_estimators': 450, 'n_jobs': -1, 'num_leaves': 20, 'objective': 'binary', 'random_state': 42, 'reg_alpha': 0.5314865350224595, 'reg_lambda': 0.7606527336556136, 'scale_pos_weight': 7.876, 'subsample': 0.7857452506248942, 'subsample_freq': 1, 'verbose': -1}\n",
      "AUROC score on train set:: 0.820\n",
      "AUROC score on validation set:: 0.802\n"
     ]
    },
    {
     "data": {
      "text/plain": [
       "(0.8201589735203072, 0.8015639499126473)"
      ]
     },
     "execution_count": 155,
     "metadata": {},
     "output_type": "execute_result"
    }
   ],
   "source": [
    "def objective(space):\n",
    "    clf = LGBMClassifier(**space)\n",
    "    model_pipeline = Pipeline(steps=[\n",
    "        ('preprocessor', preprocessor_cat),\n",
    "        ('classifier', clf)\n",
    "    ])\n",
    "\n",
    "    auroc = cross_val_score(model_pipeline,\n",
    "                            train_inputs,\n",
    "                            train_targets,\n",
    "                            cv=3,\n",
    "                            scoring='roc_auc').mean()\n",
    "    return {'loss': -auroc, 'status': STATUS_OK}\n",
    "\n",
    "space = {\n",
    "    'max_depth':        hp.choice('max_depth', np.arange(3, 15, 1, dtype=int)),\n",
    "    'num_leaves':       hp.choice('num_leaves', np.arange(20, 150, 10, dtype=int)),\n",
    "    'learning_rate':    hp.loguniform('learning_rate', np.log(1e-3), np.log(10)),\n",
    "    'n_estimators':     hp.choice('n_estimators', np.arange(50, 500, 50, dtype='int')),\n",
    "    'subsample':        hp.uniform('subsample', 0.5, 1.),\n",
    "    'colsample_bytree': hp.uniform('colsample_bytree', 0.5, 1.),\n",
    "    'min_split_gain':   hp.uniform('min_split_gain', 0, 0.3),\n",
    "    'min_child_weight': hp.choice('min_child_weight', np.arange(1, 10, 1, dtype=int)),\n",
    "    'reg_alpha':        hp.uniform('reg_alpha', 0, 1),\n",
    "    'reg_lambda':       hp.uniform('reg_lambda', 0, 1),\n",
    "    'scale_pos_weight': scale_pos_weight,\n",
    "    'objective':        'binary',\n",
    "    'random_state':     42,\n",
    "    'metric':           'auc',\n",
    "    'subsample_freq':   1,\n",
    "    'verbose':          -1,\n",
    "    'n_jobs':           -1\n",
    "}\n",
    "\n",
    "trials = Trials()\n",
    "best = fmin(fn=objective,\n",
    "            space=space,\n",
    "            algo=tpe.suggest,\n",
    "            max_evals=30,\n",
    "            trials=trials,\n",
    "            rstate=np.random.default_rng(1491))\n",
    "\n",
    "best_params = space_eval(space, best)\n",
    "\n",
    "print(\"The best hyperparameters:\", best_params)\n",
    "\n",
    "model_pipeline_lgb = Pipeline(steps=[\n",
    "        ('preprocessor', preprocessor_cat),\n",
    "        ('classifier', LGBMClassifier(**best_params))\n",
    "    ])\n",
    "\n",
    "get_auc(model_pipeline_lgb, train_inputs, train_targets)\n"
   ]
  },
  {
   "cell_type": "markdown",
   "metadata": {},
   "source": [
    "- After tuning `LGBMClassifier` using `Hyperopt`, the AUROC score improved as follows:\n",
    "    - Train AUROC: 0.837 ← 0.820 (decreased)\n",
    "    - Validation AUROC: 0.800 → 0.802 (slight generalization improvement)\n",
    "- Hyperparameter tuning improved generalization slightly, with a +0.001 increase in validation AUROC and significantly decrease overfitting gap. \n",
    "- `LGBMClassifier` achieve the highest AUROC scores on validation (~0.802), indicating strong predictive power."
   ]
  },
  {
   "cell_type": "markdown",
   "metadata": {},
   "source": [
    "### Save the best model"
   ]
  },
  {
   "cell_type": "code",
   "execution_count": 168,
   "metadata": {},
   "outputs": [
    {
     "data": {
      "text/plain": [
       "['./data/model_lgb.joblib']"
      ]
     },
     "execution_count": 168,
     "metadata": {},
     "output_type": "execute_result"
    }
   ],
   "source": [
    "bank_deposit_prediction = {\n",
    "    'clf': LGBMClassifier(**best_params),\n",
    "    'preprocessor_cat': preprocessor_cat,\n",
    "    'model_pipeline_lgb': model_pipeline_lgb\n",
    "}\n",
    "\n",
    "joblib.dump(bank_deposit_prediction, './data/model_lgb.joblib')"
   ]
  },
  {
   "cell_type": "markdown",
   "metadata": {},
   "source": [
    "## Feature Importance for LGBMClassifier"
   ]
  },
  {
   "cell_type": "code",
   "execution_count": 158,
   "metadata": {},
   "outputs": [
    {
     "data": {
      "image/png": "[encoded data removed]",
      "text/plain": [
       "<Figure size 640x480 with 1 Axes>"
      ]
     },
     "metadata": {},
     "output_type": "display_data"
    }
   ],
   "source": [
    "model_pipeline_lgb.fit(train_inputs, train_targets)\n",
    "\n",
    "plot_importance(model_pipeline_lgb[-1], height=0.3, max_num_features=20)\n",
    "plt.show()"
   ]
  },
  {
   "cell_type": "markdown",
   "metadata": {},
   "source": [
    "**Conclusion on Feature Importance from LGBMClassifier**\n",
    "-  Top Features:\n",
    "    - `euribor3m` (1183) and `euribor3m_to_emp.var.rate` (798) – The most important predictors for the model. These features are related to economic indicators that likely impact customer behavior.\n",
    "    Interest rates significantly impact financial decisions.\n",
    "    - `age` (652) – Age remains a crucial factor in determining customer behavior.\n",
    "    - `cons.conf.idx_to_euribor3m` (587) - A derived feature that captures consumer confidence relative to market rates. Could indicate customer sentiment towards financial services.\n",
    "    -  `campaign` (524) – The number of contacts made during the campaign significantly affects the likelihood of a positive response.\n",
    "    - `contact_cellular` (480) - Customers contacted via cellular may have different engagement levels compared to those contacted via telephone.\n",
    "    -  likely capturing an important economic relationship between interest rates and employment.\n",
    "    - `pdays` (447) and `poutcome_failure` (296) - Past interactions and their success/failure play a role in future engagement.\n",
    "    \n",
    "- Macroeconomic features (`euribor3m`, `nr.employed`, `emp.var.rate`) dominate, implying that economic conditions strongly influence customer decisions.\n",
    "- Features related to marketing efforts (`campaign`, `contact_cellular`, `pdays`, `poutcome_failure`) are also relevant, which aligns with real-world bank marketing strategies. Suggesting that past interactions shape customer responses.\n",
    "- Demographics and credit history (`age`, `education`, `default_no`) provide additional predictive power.\n",
    "- Such results make sense because the top features based on economic and customer behavior factors.and align with financial decision-making.\n",
    "- Feature importance confirms that economic conditions and marketing efforts play a crucial role."
   ]
  },
  {
   "cell_type": "markdown",
   "metadata": {},
   "source": [
    "## Shap Explainer"
   ]
  },
  {
   "cell_type": "code",
   "execution_count": 159,
   "metadata": {},
   "outputs": [],
   "source": [
    "feat_eng(test_inputs)\n",
    "test_inputs_transform = model_pipeline_lgb[0].transform(test_inputs)"
   ]
  },
  {
   "cell_type": "code",
   "execution_count": 87,
   "metadata": {},
   "outputs": [],
   "source": [
    "explainer = shap.Explainer(model_pipeline_lgb[-1])\n",
    "shap_values = explainer(test_inputs_transform)"
   ]
  },
  {
   "cell_type": "code",
   "execution_count": 88,
   "metadata": {},
   "outputs": [
    {
     "data": {
      "image/png": "[encoded data removed]",
      "text/plain": [
       "<Figure size 800x650 with 1 Axes>"
      ]
     },
     "metadata": {},
     "output_type": "display_data"
    }
   ],
   "source": [
    "shap.plots.bar(shap_values)"
   ]
  },
  {
   "cell_type": "code",
   "execution_count": 89,
   "metadata": {},
   "outputs": [
    {
     "data": {
      "image/png": "[encoded data removed]",
      "text/plain": [
       "<Figure size 800x550 with 2 Axes>"
      ]
     },
     "metadata": {},
     "output_type": "display_data"
    }
   ],
   "source": [
    "shap.plots.beeswarm(shap_values)"
   ]
  },
  {
   "cell_type": "markdown",
   "metadata": {},
   "source": [
    "SHAP (Shapley Additive Explanations) helps us understand how each feature contributes to the model’s predictions:\n",
    "- `euribor3m`, `nr.employed`, `emp.var.rate`, and `cons.conf.idx_to_euribor3m` - Higher values of these features increase the prediction probability (i.e., they increase the likelihood of a positive outcome). These are macroeconomic indicators, suggesting that a strong economy correlates with better customer engagement.\n",
    "- `contact_cellular` - Customers contacted via cellular possibly more likely to respond positively. Might indicate that other contact methods (e.g., telephone) are less effective.\n",
    "- `euribor3m_to_emp.var.rate` Most values do not significantly influence predictions, but some extreme blue values push predictions higher. This suggests that in some economic conditions, the interaction between euribor3m and emp.var.rate has a strong impact.\n",
    "- `campaign` - Higher campaign values reduce the prediction (strong negative effect). Suggests that too many contact attempts decrease the likelihood of a positive outcome—likely due to customer annoyance.\n",
    "- `cons.conf.idx` - Mixed effect. Indicates that consumer confidence has a non-linear impact—likely dependent on other conditions."
   ]
  },
  {
   "cell_type": "code",
   "execution_count": 160,
   "metadata": {},
   "outputs": [
    {
     "name": "stdout",
     "output_type": "stream",
     "text": [
      "AUROC score on test set:: 0.761\n"
     ]
    },
    {
     "data": {
      "image/png": "[encoded data removed]",
      "text/plain": [
       "<Figure size 400x300 with 2 Axes>"
      ]
     },
     "metadata": {},
     "output_type": "display_data"
    }
   ],
   "source": [
    "test_pred = model_pipeline_lgb.predict(test_inputs)\n",
    "test_score = roc_auc_score(test_targets, test_pred)\n",
    "print(f\"AUROC score on test set:: {test_score:.3f}\")\n",
    "\n",
    "cm = confusion_matrix(test_targets, test_pred)\n",
    "plt.figure(figsize=(4, 3))\n",
    "sns.heatmap(cm, annot=True, cmap='YlOrBr',\n",
    "            xticklabels=['no', 'yes'], yticklabels=['no', 'yes'], fmt='.0f')\n",
    "plt.xlabel('Prediction')\n",
    "plt.ylabel('Target')\n",
    "plt.title('Confusion Matrix')\n",
    "plt.show()"
   ]
  },
  {
   "cell_type": "code",
   "execution_count": 91,
   "metadata": {},
   "outputs": [
    {
     "data": {
      "image/png": "[encoded data removed]",
      "text/plain": [
       "<Figure size 400x300 with 2 Axes>"
      ]
     },
     "metadata": {},
     "output_type": "display_data"
    }
   ],
   "source": [
    "cm = confusion_matrix(test_targets, test_pred, normalize='true')\n",
    "plt.figure(figsize=(4, 3))\n",
    "sns.heatmap(cm, annot=True, cmap='YlOrBr',\n",
    "            xticklabels=['no', 'yes'], yticklabels=['no', 'yes'])\n",
    "plt.xlabel('Prediction')\n",
    "plt.ylabel('Target')\n",
    "plt.title('Confusion Matrix')\n",
    "plt.show()"
   ]
  },
  {
   "cell_type": "markdown",
   "metadata": {},
   "source": [
    "- Macroeconomic variables (`euribor3m`, `nr.employed`) significantly impact deposit subscription rates.\n",
    "- Marketing strategies is crucial:\n",
    "    - Contacting via cellular increases success.\n",
    "    - Too many campaigns decrease effectiveness.\n",
    "    - Recent interactions are more impactful.\n",
    "- Feature engineering helped capture valuable economic trends."
   ]
  }
 ],
 "metadata": {
  "kernelspec": {
   "display_name": "py312",
   "language": "python",
   "name": "python3"
  },
  "language_info": {
   "codemirror_mode": {
    "name": "ipython",
    "version": 3
   },
   "file_extension": ".py",
   "mimetype": "text/x-python",
   "name": "python",
   "nbconvert_exporter": "python",
   "pygments_lexer": "ipython3",
   "version": "3.12.7"
  }
 },
 "nbformat": 4,
 "nbformat_minor": 2
}
